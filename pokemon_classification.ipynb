{
  "nbformat": 4,
  "nbformat_minor": 0,
  "metadata": {
    "colab": {
      "name": "tensorflow_tut_1.ipynb",
      "provenance": [],
      "collapsed_sections": []
    },
    "kernelspec": {
      "name": "python3",
      "display_name": "Python 3"
    }
  },
  "cells": [
    {
      "cell_type": "code",
      "metadata": {
        "id": "Kmzhprp2MyED",
        "colab_type": "code",
        "outputId": "c3fa7243-8f86-43f7-eca2-bd2f98637548",
        "colab": {
          "base_uri": "https://localhost:8080/",
          "height": 35
        }
      },
      "source": [
        "import tensorflow as tf\n",
        "from tensorflow import keras\n",
        "\n",
        "print (tf.__version__)\n"
      ],
      "execution_count": 0,
      "outputs": [
        {
          "output_type": "stream",
          "text": [
            "1.12.0\n"
          ],
          "name": "stdout"
        }
      ]
    },
    {
      "cell_type": "code",
      "metadata": {
        "id": "uAWqWGq9OQha",
        "colab_type": "code",
        "outputId": "2a4e44aa-22b4-456d-d311-9bc166cdcf11",
        "colab": {
          "base_uri": "https://localhost:8080/",
          "height": 52
        }
      },
      "source": [
        "in1 = tf.ones((2,3))\n",
        "in2 = tf.reshape ( tf.range(1,7, dtype=tf.float32) , (2,3))\n",
        "\n",
        "out = in1 * 2 + in2\n",
        "\n",
        "with tf.Session() as test:\n",
        "  result = test.run(out)\n",
        "\n",
        "result\n"
      ],
      "execution_count": 0,
      "outputs": [
        {
          "output_type": "execute_result",
          "data": {
            "text/plain": [
              "array([[3., 4., 5.],\n",
              "       [6., 7., 8.]], dtype=float32)"
            ]
          },
          "metadata": {
            "tags": []
          },
          "execution_count": 15
        }
      ]
    },
    {
      "cell_type": "code",
      "metadata": {
        "id": "8GrRJpfZR7bn",
        "colab_type": "code",
        "colab": {}
      },
      "source": [
        "\n"
      ],
      "execution_count": 0,
      "outputs": []
    }
  ]
}